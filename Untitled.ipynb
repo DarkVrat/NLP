{
 "cells": [
  {
   "cell_type": "code",
   "execution_count": null,
   "id": "5dfd1eab",
   "metadata": {},
   "outputs": [
    {
     "name": "stderr",
     "output_type": "stream",
     "text": [
      "2022-11-16 20:51:07.57 INFO in 'deeppavlov.core.data.utils'['utils'] at line 95: Downloading from http://files.deeppavlov.ai/v1/squad/squad_ru_torch_bert.tar.gz to C:\\Users\\DarkVrat\\.deeppavlov\\squad_ru_torch_bert.tar.gz\n",
      "  6%|▌         | 105M/1.74G [01:55<29:06, 935kB/s] "
     ]
    }
   ],
   "source": [
    "from deeppavlov import configs\n",
    "from deeppavlov import build_model\n",
    "from deeppavlov import train_model\n",
    "\n",
    "model = train_model(\"squad_ru_bert.json\", download=True)\n",
    "model = build_model(\"squad_ru_bert.json\", download=True)\n",
    "\n",
    "\n",
    "# get predictions for 'input_text1', 'input_text2'\n",
    "model(['input_text1', 'input_text2'])"
   ]
  },
  {
   "cell_type": "code",
   "execution_count": null,
   "id": "90d1c94d",
   "metadata": {},
   "outputs": [],
   "source": []
  },
  {
   "cell_type": "code",
   "execution_count": null,
   "id": "4784b931",
   "metadata": {},
   "outputs": [],
   "source": []
  }
 ],
 "metadata": {
  "kernelspec": {
   "display_name": "Python 3 (ipykernel)",
   "language": "python",
   "name": "python3"
  },
  "language_info": {
   "codemirror_mode": {
    "name": "ipython",
    "version": 3
   },
   "file_extension": ".py",
   "mimetype": "text/x-python",
   "name": "python",
   "nbconvert_exporter": "python",
   "pygments_lexer": "ipython3",
   "version": "3.7.15"
  }
 },
 "nbformat": 4,
 "nbformat_minor": 5
}
